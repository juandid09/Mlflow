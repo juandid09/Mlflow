{
 "cells": [
  {
   "cell_type": "markdown",
   "metadata": {},
   "source": [
    "Celda 1: Importar las bibliotecas necesarias"
   ]
  },
  {
   "cell_type": "code",
   "execution_count": 22,
   "metadata": {},
   "outputs": [],
   "source": [
    "import mlflow\n",
    "from mlflow.models import infer_signature\n",
    "\n",
    "import pandas as pd\n",
    "import lightgbm as lgb\n",
    "import matplotlib.pyplot as plt\n",
    "from sklearn.model_selection import train_test_split\n",
    "from sklearn.metrics import accuracy_score\n",
    "from sklearn.linear_model import LogisticRegression\n",
    "from sklearn.ensemble import RandomForestClassifier\n",
    "from sklearn.svm import SVC\n",
    "from sklearn.neighbors import KNeighborsClassifier\n",
    "import xgboost as xgb\n",
    "import numpy as np"
   ]
  },
  {
   "cell_type": "markdown",
   "metadata": {},
   "source": [
    "Celda 2: Cargar y preparar el dataset"
   ]
  },
  {
   "cell_type": "code",
   "execution_count": 23,
   "metadata": {},
   "outputs": [
    {
     "name": "stdout",
     "output_type": "stream",
     "text": [
      "    ID  Severity           Start_Time             End_Time  Start_Lat  \\\n",
      "0  A-1         3  2016-02-08 00:37:08  2016-02-08 06:37:08  40.108910   \n",
      "1  A-2         2  2016-02-08 05:56:20  2016-02-08 11:56:20  39.865420   \n",
      "2  A-3         2  2016-02-08 06:15:39  2016-02-08 12:15:39  39.102660   \n",
      "3  A-4         2  2016-02-08 06:51:45  2016-02-08 12:51:45  41.062130   \n",
      "4  A-5         3  2016-02-08 07:53:43  2016-02-08 13:53:43  39.172393   \n",
      "\n",
      "   Start_Lng    End_Lat    End_Lng  Distance(mi)  \\\n",
      "0 -83.092860  40.112060 -83.031870         3.230   \n",
      "1 -84.062800  39.865010 -84.048730         0.747   \n",
      "2 -84.524680  39.102090 -84.523960         0.055   \n",
      "3 -81.537840  41.062170 -81.535470         0.123   \n",
      "4 -84.492792  39.170476 -84.501798         0.500   \n",
      "\n",
      "                                         Description  ...  Roundabout Station  \\\n",
      "0  Between Sawmill Rd/Exit 20 and OH-315/Olentang...  ...       False   False   \n",
      "1                 At OH-4/OH-235/Exit 41 - Accident.  ...       False   False   \n",
      "2                   At I-71/US-50/Exit 1 - Accident.  ...       False   False   \n",
      "3                    At Dart Ave/Exit 21 - Accident.  ...       False   False   \n",
      "4                 At Mitchell Ave/Exit 6 - Accident.  ...       False   False   \n",
      "\n",
      "    Stop Traffic_Calming Traffic_Signal Turning_Loop Sunrise_Sunset  \\\n",
      "0  False           False          False        False          Night   \n",
      "1  False           False          False        False          Night   \n",
      "2  False           False          False        False          Night   \n",
      "3  False           False          False        False          Night   \n",
      "4  False           False          False        False            Day   \n",
      "\n",
      "  Civil_Twilight Nautical_Twilight Astronomical_Twilight  \n",
      "0          Night             Night                 Night  \n",
      "1          Night             Night                 Night  \n",
      "2          Night             Night                   Day  \n",
      "3          Night               Day                   Day  \n",
      "4            Day               Day                   Day  \n",
      "\n",
      "[5 rows x 47 columns]\n",
      "(2845342, 47)\n"
     ]
    }
   ],
   "source": [
    "# Cargar el dataset desde Hugging Face\n",
    "df = pd.read_csv(\"US_Accidents_Dec21_updated.csv\")\n",
    "\n",
    "# Mostrar las primeras filas del dataset y su forma\n",
    "print(df.head())\n",
    "print(df.shape)\n",
    "\n",
    "# Seleccionar la variable objetivo y las características\n",
    "y = df[['Severity']]  # Variable objetivo\n",
    "X = df[['Temperature(F)', 'Visibility(mi)', 'Wind_Speed(mph)']]  # Características\n",
    "\n",
    "# Rellenar valores NaN con la mediana\n",
    "X = X.fillna(X.median())\n",
    "\n",
    "# Asegurar que X e y tengan las mismas filas\n",
    "y = y.dropna()\n",
    "X = X.loc[y.index]\n",
    "\n",
    "# Dividir en conjuntos de entrenamiento y prueba\n",
    "X_train, X_test, y_train, y_test = train_test_split(X, y, test_size=0.2, random_state=42)\n",
    "\n",
    "# Ajustar etiquetas para que comiencen desde 0\n",
    "y_train = y_train - 1\n",
    "y_test = y_test - 1\n",
    "\n",
    "# Convertir y_train a Series\n",
    "y_train = y_train.squeeze()"
   ]
  },
  {
   "cell_type": "markdown",
   "metadata": {},
   "source": [
    "Celda 3: Configurar la URI de seguimiento de MLflow"
   ]
  },
  {
   "cell_type": "code",
   "execution_count": 24,
   "metadata": {},
   "outputs": [
    {
     "data": {
      "text/plain": [
       "<Experiment: artifact_location='mlflow-artifacts:/855949271339512432', creation_time=1741142958669, experiment_id='855949271339512432', last_update_time=1741142958669, lifecycle_stage='active', name='MLflow Quickstart', tags={}>"
      ]
     },
     "execution_count": 24,
     "metadata": {},
     "output_type": "execute_result"
    }
   ],
   "source": [
    "# Configurar la URI de seguimiento de MLflow\n",
    "mlflow.set_tracking_uri(uri=\"http://127.0.0.1:5000\")\n",
    "\n",
    "# Crear un nuevo experimento en MLflow\n",
    "mlflow.set_experiment(\"MLflow Quickstart\")"
   ]
  },
  {
   "cell_type": "markdown",
   "metadata": {},
   "source": [
    "Celda 4: Definir los modelos a entrenar"
   ]
  },
  {
   "cell_type": "code",
   "execution_count": 25,
   "metadata": {},
   "outputs": [],
   "source": [
    "# Definir los modelos a entrenar\n",
    "models = {\n",
    "    \"Logistic Regression\": LogisticRegression(max_iter=1000, multi_class='multinomial', solver='lbfgs'),\n",
    "    \"Random Forest\": RandomForestClassifier(n_estimators=100, random_state=42),\n",
    "    \"LightGBM\": lgb.LGBMClassifier(objective='multiclass', num_class=4, metric='multi_logloss', boosting_type='gbdt', learning_rate=0.1),\n",
    "    #\"SVM\": SVC(probability=True, kernel='linear'),\n",
    "    \"XGBoost\": xgb.XGBClassifier(objective='multi:softprob', num_class=4, eval_metric='mlogloss', learning_rate=0.1),\n",
    "    \"KNN\": KNeighborsClassifier(n_neighbors=5)\n",
    "}"
   ]
  },
  {
   "cell_type": "markdown",
   "metadata": {},
   "source": [
    "Celda 5: Entrenar y registrar múltiples modelos"
   ]
  },
  {
   "cell_type": "code",
   "execution_count": 26,
   "metadata": {},
   "outputs": [
    {
     "name": "stderr",
     "output_type": "stream",
     "text": [
      "d:\\Documentos_Loni\\EspecializacionIA_Autonoma_02-09-2024\\3.Desarrollo_de_Proyectos_de_IA\\7.Modulo4\\Proyecto6_Mlflow\\.venv\\Lib\\site-packages\\sklearn\\linear_model\\_logistic.py:1247: FutureWarning: 'multi_class' was deprecated in version 1.5 and will be removed in 1.7. From then on, it will always use 'multinomial'. Leave it to its default value to avoid this warning.\n",
      "  warnings.warn(\n"
     ]
    },
    {
     "name": "stdout",
     "output_type": "stream",
     "text": [
      "Logistic Regression Accuracy: 0.8905\n"
     ]
    },
    {
     "name": "stderr",
     "output_type": "stream",
     "text": [
      "2025/03/05 21:54:38 WARNING mlflow.utils.environment: Failed to resolve installed pip version. ``pip`` will be added to conda.yaml environment spec without a version specifier.\n",
      "Downloading artifacts: 100%|██████████| 7/7 [00:00<00:00, 205.34it/s] \n"
     ]
    },
    {
     "name": "stdout",
     "output_type": "stream",
     "text": [
      "🏃 View run stately-trout-1 at: http://127.0.0.1:5000/#/experiments/855949271339512432/runs/1733929d626f4eb782456e170c7554d9\n",
      "🧪 View experiment at: http://127.0.0.1:5000/#/experiments/855949271339512432\n",
      "Random Forest Accuracy: 0.8890\n"
     ]
    },
    {
     "name": "stderr",
     "output_type": "stream",
     "text": [
      "2025/03/05 21:57:45 WARNING mlflow.utils.environment: Failed to resolve installed pip version. ``pip`` will be added to conda.yaml environment spec without a version specifier.\n",
      "Downloading artifacts: 100%|██████████| 7/7 [00:00<00:00, 16.93it/s]  \n"
     ]
    },
    {
     "name": "stdout",
     "output_type": "stream",
     "text": [
      "🏃 View run burly-jay-504 at: http://127.0.0.1:5000/#/experiments/855949271339512432/runs/a27bcb43dd134b64a63bb02222b2c445\n",
      "🧪 View experiment at: http://127.0.0.1:5000/#/experiments/855949271339512432\n",
      "[LightGBM] [Warning] Unknown parameter: importance_type\n",
      "[LightGBM] [Warning] Unknown parameter: importance_type\n",
      "[LightGBM] [Info] Auto-choosing row-wise multi-threading, the overhead of testing was 0.004955 seconds.\n",
      "You can set `force_row_wise=true` to remove the overhead.\n",
      "And if memory is not enough, you can set `force_col_wise=true`.\n",
      "[LightGBM] [Info] Total Bins 303\n",
      "[LightGBM] [Info] Number of data points in the train set: 2276273, number of used features: 3\n",
      "[LightGBM] [Warning] Unknown parameter: importance_type\n",
      "[LightGBM] [Info] Start training from score -4.692413\n",
      "[LightGBM] [Info] Start training from score -0.116361\n",
      "[LightGBM] [Info] Start training from score -2.908232\n",
      "[LightGBM] [Info] Start training from score -3.076744\n",
      "[10]\ttrain's multi_logloss: 0.412036\ttest's multi_logloss: 0.411502\n",
      "[20]\ttrain's multi_logloss: 0.40774\ttest's multi_logloss: 0.407412\n",
      "[30]\ttrain's multi_logloss: 0.405966\ttest's multi_logloss: 0.405804\n",
      "[40]\ttrain's multi_logloss: 0.404838\ttest's multi_logloss: 0.4048\n",
      "[50]\ttrain's multi_logloss: 0.404067\ttest's multi_logloss: 0.404168\n",
      "[60]\ttrain's multi_logloss: 0.40352\ttest's multi_logloss: 0.403737\n",
      "[70]\ttrain's multi_logloss: 0.403102\ttest's multi_logloss: 0.403443\n",
      "[80]\ttrain's multi_logloss: 0.402745\ttest's multi_logloss: 0.403232\n",
      "[90]\ttrain's multi_logloss: 0.402402\ttest's multi_logloss: 0.403006\n",
      "[100]\ttrain's multi_logloss: 0.402113\ttest's multi_logloss: 0.402829\n",
      "LightGBM training completed.\n",
      "LightGBM Accuracy: 0.8906\n"
     ]
    },
    {
     "name": "stderr",
     "output_type": "stream",
     "text": [
      "2025/03/05 21:58:49 WARNING mlflow.utils.environment: Failed to resolve installed pip version. ``pip`` will be added to conda.yaml environment spec without a version specifier.\n",
      "Downloading artifacts: 100%|██████████| 7/7 [00:00<00:00, 193.42it/s] \n"
     ]
    },
    {
     "name": "stdout",
     "output_type": "stream",
     "text": [
      "🏃 View run blushing-mouse-681 at: http://127.0.0.1:5000/#/experiments/855949271339512432/runs/6a4a82d63180428b91b08b0ecdc58b9f\n",
      "🧪 View experiment at: http://127.0.0.1:5000/#/experiments/855949271339512432\n",
      "XGBoost training completed.\n",
      "XGBoost Accuracy: 0.8906\n"
     ]
    },
    {
     "name": "stderr",
     "output_type": "stream",
     "text": [
      "2025/03/05 21:59:28 WARNING mlflow.utils.environment: Failed to resolve installed pip version. ``pip`` will be added to conda.yaml environment spec without a version specifier.\n",
      "Downloading artifacts: 100%|██████████| 7/7 [00:00<00:00, 211.45it/s]\n"
     ]
    },
    {
     "name": "stdout",
     "output_type": "stream",
     "text": [
      "🏃 View run rare-squirrel-867 at: http://127.0.0.1:5000/#/experiments/855949271339512432/runs/abb5a4fc783544ffb4eef40d1fe8a822\n",
      "🧪 View experiment at: http://127.0.0.1:5000/#/experiments/855949271339512432\n",
      "KNN training completed.\n",
      "KNN Accuracy: 0.8845\n"
     ]
    },
    {
     "name": "stderr",
     "output_type": "stream",
     "text": [
      "2025/03/05 22:03:56 WARNING mlflow.utils.environment: Failed to resolve installed pip version. ``pip`` will be added to conda.yaml environment spec without a version specifier.\n",
      "Downloading artifacts: 100%|██████████| 7/7 [00:00<00:00, 166.42it/s]\n"
     ]
    },
    {
     "name": "stdout",
     "output_type": "stream",
     "text": [
      "🏃 View run clumsy-goat-721 at: http://127.0.0.1:5000/#/experiments/855949271339512432/runs/f131aa46cf664a2e9cb7e241796f9a34\n",
      "🧪 View experiment at: http://127.0.0.1:5000/#/experiments/855949271339512432\n"
     ]
    }
   ],
   "source": [
    "# Lista para almacenar los resultados de los modelos\n",
    "model_results = []\n",
    "\n",
    "# Entrenar y registrar múltiples modelos\n",
    "for model_name, model in models.items():\n",
    "    # Finalizar cualquier ejecución activa de MLflow\n",
    "    mlflow.end_run()\n",
    "\n",
    "    # Iniciar una nueva ejecución de MLflow\n",
    "    with mlflow.start_run():\n",
    "        # Entrenar el modelo\n",
    "        if model_name == \"LightGBM\":\n",
    "            train_data = lgb.Dataset(X_train, label=y_train)\n",
    "            test_data = lgb.Dataset(X_test, label=y_test, reference=train_data)\n",
    "            evals_result = {}\n",
    "            model = lgb.train(\n",
    "                model.get_params(),\n",
    "                train_data,\n",
    "                valid_sets=[train_data, test_data],\n",
    "                valid_names=['train', 'test'],\n",
    "                num_boost_round=100,\n",
    "                callbacks=[lgb.log_evaluation(10), lgb.record_evaluation(evals_result)]\n",
    "            )\n",
    "            y_pred = model.predict(X_test)\n",
    "            y_pred = y_pred.argmax(axis=1)\n",
    "            train_loss = evals_result['train']['multi_logloss']\n",
    "            test_loss = evals_result['test']['multi_logloss']\n",
    "            print(f\"{model_name} training completed.\")\n",
    "        elif model_name == \"XGBoost\":\n",
    "            evals_result = {}\n",
    "            model.set_params(eval_metric='mlogloss')\n",
    "            model.fit(X_train, y_train, eval_set=[(X_train, y_train), (X_test, y_test)], verbose=False)\n",
    "            y_pred = model.predict(X_test)\n",
    "            evals_result = model.evals_result()\n",
    "            train_loss = evals_result['validation_0']['mlogloss']\n",
    "            test_loss = evals_result['validation_1']['mlogloss']\n",
    "            print(f\"{model_name} training completed.\")\n",
    "        else:\n",
    "            model.fit(X_train, y_train)\n",
    "            y_pred = model.predict(X_test)\n",
    "            train_loss = None\n",
    "            test_loss = None\n",
    "            if model_name == \"KNN\":\n",
    "                print(f\"{model_name} training completed.\")\n",
    "\n",
    "        # Calcular la precisión\n",
    "        accuracy = accuracy_score(y_test, y_pred)\n",
    "        print(f\"{model_name} Accuracy: {accuracy:.4f}\")\n",
    "\n",
    "        # Registrar la métrica de precisión en MLflow\n",
    "        mlflow.log_metric(\"accuracy\", accuracy)\n",
    "\n",
    "        # Registrar las métricas de pérdida (loss) en MLflow para LightGBM y XGBoost\n",
    "        if model_name in [\"LightGBM\", \"XGBoost\"]:\n",
    "            for i, (train, test) in enumerate(zip(train_loss, test_loss)):\n",
    "                try:\n",
    "                    mlflow.log_metric(\"train_loss\", train, step=i)\n",
    "                    mlflow.log_metric(\"test_loss\", test, step=i)\n",
    "                except Exception as e:\n",
    "                    print(f\"Error logging metric at step {i}: {e}\")\n",
    "\n",
    "        # Inferir la firma del modelo\n",
    "        signature = infer_signature(X_train, model.predict(X_train))\n",
    "\n",
    "        # Registrar el modelo en MLflow\n",
    "        mlflow.sklearn.log_model(\n",
    "            sk_model=model,\n",
    "            artifact_path=\"model\",\n",
    "            signature=signature,\n",
    "            input_example=X_train\n",
    "        )\n",
    "\n",
    "        # Agregar etiquetas\n",
    "        mlflow.set_tag(\"Model\", model_name)\n",
    "\n",
    "        # Almacenar los resultados del modelo\n",
    "        model_results.append({\n",
    "            'model_name': model_name,\n",
    "            'accuracy': accuracy,\n",
    "            'train_loss': train_loss,\n",
    "            'test_loss': test_loss\n",
    "        })"
   ]
  },
  {
   "cell_type": "markdown",
   "metadata": {},
   "source": [
    "Celda 6: Graficar la evolución de la pérdida para cada modelo"
   ]
  },
  {
   "cell_type": "code",
   "execution_count": 27,
   "metadata": {},
   "outputs": [
    {
     "data": {
      "image/png": "[encoded data removed]",
      "text/plain": [
       "<Figure size 1000x600 with 1 Axes>"
      ]
     },
     "metadata": {},
     "output_type": "display_data"
    }
   ],
   "source": [
    "# Graficar la evolución de la pérdida para cada modelo\n",
    "plt.figure(figsize=(10, 6))\n",
    "for result in model_results:\n",
    "    if result['train_loss'] is not None:\n",
    "        epochs = range(1, len(result['train_loss']) + 1)\n",
    "        plt.plot(epochs, result['train_loss'], label=f\"Train {result['model_name']}\", linestyle='--')\n",
    "        plt.plot(epochs, result['test_loss'], label=f\"Test {result['model_name']}\")\n",
    "\n",
    "plt.xlabel(\"Steps\")\n",
    "plt.ylabel(\"Loss\")\n",
    "plt.title(\"Evolución de la función de costo\")\n",
    "plt.legend()\n",
    "plt.grid()\n",
    "plt.show()"
   ]
  }
 ],
 "metadata": {
  "kernelspec": {
   "display_name": ".venv",
   "language": "python",
   "name": "python3"
  },
  "language_info": {
   "codemirror_mode": {
    "name": "ipython",
    "version": 3
   },
   "file_extension": ".py",
   "mimetype": "text/x-python",
   "name": "python",
   "nbconvert_exporter": "python",
   "pygments_lexer": "ipython3",
   "version": "3.12.9"
  }
 },
 "nbformat": 4,
 "nbformat_minor": 2
}
